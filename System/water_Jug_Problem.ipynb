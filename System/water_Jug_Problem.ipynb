{
 "cells": [
  {
   "cell_type": "code",
   "execution_count": 20,
   "id": "2425545a-b4ca-4659-bbfc-81ae8b8f005b",
   "metadata": {},
   "outputs": [
    {
     "name": "stdout",
     "output_type": "stream",
     "text": [
      "Solution path (jug1, jug2):\n",
      "(5, 0)\n",
      "(0, 5)\n",
      "(5, 5)\n",
      "(3, 7)\n",
      "(3, 0)\n",
      "(0, 3)\n",
      "(5, 3)\n",
      "(1, 7)\n",
      "(1, 0)\n",
      "(0, 1)\n",
      "(5, 1)\n",
      "(0, 6)\n",
      "(5, 6)\n",
      "(4, 7)\n",
      "(4, 0)\n",
      "(0, 4)\n"
     ]
    }
   ],
   "source": [
    "#Write a Python program to solve water jug problem. 2 jugs with capacity 5 gallon and 7 gallon\n",
    "#are given with unlimited water supply respectively. The target to achieve is 4 gallon of water in\n",
    "#second jug.\n",
    "\n",
    "def water_jug_problem():\n",
    "    jug1, jug2 = 0, 0\n",
    "    jug1_capacity = 5\n",
    "    jug2_capacity = 7\n",
    "    target = 4\n",
    "    steps = []\n",
    "\n",
    "    while jug2 != target:\n",
    "        if jug1 == 0:\n",
    "            jug1 = jug1_capacity\n",
    "            steps.append((jug1, jug2))\n",
    "\n",
    "        elif jug2 == jug2_capacity:\n",
    "            jug2 = 0\n",
    "            steps.append((jug1, jug2))\n",
    "\n",
    "        else:\n",
    "            transfer = min(jug1, jug2_capacity - jug2)\n",
    "            jug1 -= transfer\n",
    "            jug2 += transfer\n",
    "            steps.append((jug1, jug2))\n",
    "\n",
    "    return steps\n",
    "\n",
    "solution = water_jug_problem()\n",
    "print(\"Solution path (jug1, jug2):\")\n",
    "for step in solution:\n",
    "    print(step)"
   ]
  },
  {
   "cell_type": "code",
   "execution_count": 22,
   "id": "92e8101c-81d0-4388-ae34-fd752ff7c71c",
   "metadata": {},
   "outputs": [
    {
     "name": "stdout",
     "output_type": "stream",
     "text": [
      "Solution path (jug1, jug2):\n",
      "(4, 0)\n",
      "(1, 3)\n",
      "(1, 0)\n",
      "(0, 1)\n",
      "(4, 1)\n",
      "(2, 3)\n",
      "(2, 0)\n",
      "(0, 2)\n"
     ]
    }
   ],
   "source": [
    "\n",
    "#Write a Python program to solve water jug problem. Two jugs with capacity 4 gallon and 3\n",
    "#gallon are given with unlimited water supply respectively. The target is to achieve 2 gallon of\n",
    "#water in second jug.\n",
    "def water_jug_problem():\n",
    "    jug1, jug2 = 0, 0\n",
    "    jug1_capacity = 4\n",
    "    jug2_capacity = 3\n",
    "    target = 2\n",
    "    steps = []\n",
    "\n",
    "    while jug2 != target:\n",
    "        if jug1 == 0:\n",
    "            jug1 = jug1_capacity\n",
    "            steps.append((jug1, jug2))\n",
    "\n",
    "        elif jug2 == jug2_capacity:\n",
    "            jug2 = 0\n",
    "            steps.append((jug1, jug2))\n",
    "\n",
    "        else:\n",
    "            transfer = min(jug1, jug2_capacity - jug2)\n",
    "            jug1 -= transfer\n",
    "            jug2 += transfer\n",
    "            steps.append((jug1, jug2))\n",
    "\n",
    "    return steps\n",
    "\n",
    "solution = water_jug_problem()\n",
    "print(\"Solution path (jug1, jug2):\")\n",
    "for step in solution:\n",
    "    print(step)"
   ]
  },
  {
   "cell_type": "code",
   "execution_count": null,
   "id": "09347a53-bb76-4a76-9d28-33e43e0d3826",
   "metadata": {},
   "outputs": [],
   "source": []
  }
 ],
 "metadata": {
  "kernelspec": {
   "display_name": "Python 3 (ipykernel)",
   "language": "python",
   "name": "python3"
  },
  "language_info": {
   "codemirror_mode": {
    "name": "ipython",
    "version": 3
   },
   "file_extension": ".py",
   "mimetype": "text/x-python",
   "name": "python",
   "nbconvert_exporter": "python",
   "pygments_lexer": "ipython3",
   "version": "3.12.4"
  }
 },
 "nbformat": 4,
 "nbformat_minor": 5
}
