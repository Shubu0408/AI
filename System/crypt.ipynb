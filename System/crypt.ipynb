{
 "cells": [
  {
   "cell_type": "code",
   "execution_count": 36,
   "id": "e1a9bf6b-1441-4161-b4d8-56f0fbb4f596",
   "metadata": {},
   "outputs": [
    {
     "name": "stdout",
     "output_type": "stream",
     "text": [
      "solution founds :TWO=734,FOUR=1468\n",
      "digits assigned: T=7,W=3,O=4,F=1,U=6,R=8\n"
     ]
    }
   ],
   "source": [
    "from itertools import permutations\n",
    "def cryptarithmetic_solution():\n",
    "    letters='TWOFUR'\n",
    "    for perm in permutations(range(10),len(letters)):\n",
    "        T,W,O,F,R,U=perm\n",
    "        if T == 0 or F == 0 :     #To avoid leading zeros in TWO or FOUR\n",
    "            continue\n",
    "        TWO=100*T+10*W+O\n",
    "        FOUR=1000*F+100*O+10*U+R\n",
    "        if TWO + TWO == FOUR:  #check equals\n",
    "            print(f\"solution founds :TWO={TWO},FOUR={FOUR}\")\n",
    "            print(f\"digits assigned: T={T},W={W},O={O},F={F},U={U},R={R}\")\n",
    "            return    #Exit function once solution found\n",
    "    print(\"No solution fouund\")\n",
    "cryptarithmetic_solution()    #calls the function to start solving"
   ]
  },
  {
   "cell_type": "code",
   "execution_count": 38,
   "id": "e04812c4-5217-4c70-a06a-5dbebc271cfc",
   "metadata": {},
   "outputs": [
    {
     "name": "stdout",
     "output_type": "stream",
     "text": [
      "solution founds :GO=81,TO=21,OUT=102\n",
      "digits assigned: G=8,O=1,T=2,U=0\n"
     ]
    }
   ],
   "source": [
    "#Write a Python program for the following Cryptarithmetic problems. GO + TO = OUT\n",
    "from itertools import permutations\n",
    "def cryptarithmetic_solution():\n",
    "    letters='GOTU'\n",
    "    for perm in permutations(range(10),len(letters)):\n",
    "        G,O,U,T=perm\n",
    "        if G == 0 or T == 0 :     #To avoid leading zeros in TWO or FOUR\n",
    "            continue\n",
    "        GO=10*G+O\n",
    "        TO=10*T+O\n",
    "        OUT=100*O+10*U+T\n",
    "        if GO + TO == OUT:  #check equals\n",
    "            print(f\"solution founds :GO={GO},TO={TO},OUT={OUT}\")\n",
    "            print(f\"digits assigned: G={G},O={O},T={T},U={U}\")\n",
    "            return    #Exit function once solution found\n",
    "    print(\"No solution fouund\")\n",
    "cryptarithmetic_solution()    #calls the function to start solving\n"
   ]
  },
  {
   "cell_type": "code",
   "execution_count": null,
   "id": "3585f226-2196-4824-b876-76b05ca074b0",
   "metadata": {},
   "outputs": [],
   "source": []
  }
 ],
 "metadata": {
  "kernelspec": {
   "display_name": "Python 3 (ipykernel)",
   "language": "python",
   "name": "python3"
  },
  "language_info": {
   "codemirror_mode": {
    "name": "ipython",
    "version": 3
   },
   "file_extension": ".py",
   "mimetype": "text/x-python",
   "name": "python",
   "nbconvert_exporter": "python",
   "pygments_lexer": "ipython3",
   "version": "3.12.4"
  }
 },
 "nbformat": 4,
 "nbformat_minor": 5
}
