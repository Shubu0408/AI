{
 "cells": [
  {
   "cell_type": "code",
   "execution_count": null,
   "id": "b5b420c6-0d95-4d23-92a7-6929b39ff6a0",
   "metadata": {},
   "outputs": [],
   "source": []
  },
  {
   "cell_type": "code",
   "execution_count": 25,
   "id": "c8d1b0a1-7b87-4c55-a194-29c01c834647",
   "metadata": {},
   "outputs": [
    {
     "name": "stdin",
     "output_type": "stream",
     "text": [
      "Enter the start string:  cat\n",
      "Enter the goal string:  dog\n"
     ]
    },
    {
     "name": "stdout",
     "output_type": "stream",
     "text": [
      "dat\n",
      "dot\n",
      "dog\n"
     ]
    }
   ],
   "source": [
    "def mean_end_analysis(start, goal):\n",
    "    steps = []\n",
    "    while start != goal:\n",
    "        for i in range(len(start)):\n",
    "            if start[i] != goal[i]:\n",
    "                start = start[:i] + goal[i] + start[i+1:]\n",
    "                steps.append(start)\n",
    "                break\n",
    "    return steps\n",
    "\n",
    "start = input(\"Enter the start string: \")\n",
    "goal = input(\"Enter the goal string: \")\n",
    "\n",
    "if len(start) != len(goal):\n",
    "    print(\"Strings must be the same length!\")\n",
    "else:\n",
    "    steps = mean_end_analysis(start, goal)\n",
    "    for step in steps:\n",
    "        print(step)"
   ]
  },
  {
   "cell_type": "code",
   "execution_count": null,
   "id": "541e76a3-b2e5-4a47-b010-3914ccb67a94",
   "metadata": {},
   "outputs": [],
   "source": []
  }
 ],
 "metadata": {
  "kernelspec": {
   "display_name": "Python 3 (ipykernel)",
   "language": "python",
   "name": "python3"
  },
  "language_info": {
   "codemirror_mode": {
    "name": "ipython",
    "version": 3
   },
   "file_extension": ".py",
   "mimetype": "text/x-python",
   "name": "python",
   "nbconvert_exporter": "python",
   "pygments_lexer": "ipython3",
   "version": "3.12.4"
  }
 },
 "nbformat": 4,
 "nbformat_minor": 5
}
