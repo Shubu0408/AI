{
 "cells": [
  {
   "cell_type": "code",
   "execution_count": null,
   "id": "d95ece45-a175-4d5f-8a93-1ed71a8a9fe1",
   "metadata": {},
   "outputs": [
    {
     "name": "stdout",
     "output_type": "stream",
     "text": [
      "Welcome to the Simple Chatbot! (type 'bye' to exit)\n"
     ]
    }
   ],
   "source": [
    "class SimpleChatbot:\n",
    "    def __init__(self):\n",
    "        self.responses = {\n",
    "            \"hello\": \"Hello! How can I assist you today?\",\n",
    "            \"how are you\": \"I'm just a computer program, but thanks for asking! How can I help you?\",\n",
    "            \"what is your name\": \"I am a simple chatbot created to assist you.\",\n",
    "            \"bye\": \"Goodbye! Have a great day!\",\n",
    "            \"help\": \"You can ask me about my name, how I'm doing, or just say hello!\",\n",
    "        }\n",
    "\n",
    "    def get_response(self, user_input):\n",
    "        user_input = user_input.lower()\n",
    "        return self.responses.get(user_input, \"I'm sorry, I don't understand that.\")\n",
    "\n",
    "def main():\n",
    "    print(\"Welcome to the Simple Chatbot! (type 'bye' to exit)\")\n",
    "    chatbot = SimpleChatbot()\n",
    "\n",
    "    while True:\n",
    "        user_input = input(\"You: \")\n",
    "        if user_input.lower() == \"bye\":\n",
    "            print(chatbot.get_response(user_input))\n",
    "            break\n",
    "        response = chatbot.get_response(user_input)\n",
    "        print(\"Chatbot:\", response)\n",
    "\n",
    "if __name__ == \"__main__\":\n",
    "    main()\n"
   ]
  },
  {
   "cell_type": "code",
   "execution_count": null,
   "id": "a1409bb5-49b8-44ea-9ec4-6f5190ff6e9a",
   "metadata": {},
   "outputs": [],
   "source": []
  }
 ],
 "metadata": {
  "kernelspec": {
   "display_name": "Python 3 (ipykernel)",
   "language": "python",
   "name": "python3"
  },
  "language_info": {
   "codemirror_mode": {
    "name": "ipython",
    "version": 3
   },
   "file_extension": ".py",
   "mimetype": "text/x-python",
   "name": "python",
   "nbconvert_exporter": "python",
   "pygments_lexer": "ipython3",
   "version": "3.12.4"
  }
 },
 "nbformat": 4,
 "nbformat_minor": 5
}
