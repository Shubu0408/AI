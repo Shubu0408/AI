{
 "cells": [
  {
   "cell_type": "code",
   "execution_count": null,
   "id": "cac4fbbc-dcf2-4968-9f57-be895438f871",
   "metadata": {},
   "outputs": [],
   "source": [
    "import random\n",
    "\n",
    "words = [\"python\", \"computer\", \"programming\", \"algorithm\", \"hangman\"]\n",
    "\n",
    "def hangman():\n",
    "    word = random.choice(words)\n",
    "    guessed_word = [\"_\"] * len(word)\n",
    "    attempts = 6\n",
    "    guessed_letters = []\n",
    "\n",
    "    print(\"Welcome to Hangman!\")\n",
    "    print(\" \".join(guessed_word))\n",
    "    \n",
    "    while attempts > 0 and \"_\" in guessed_word:\n",
    "        guess = input(\"Guess a letter: \").lower()\n",
    "        \n",
    "        if guess in guessed_letters:\n",
    "            print(\"You've already guessed that letter. Try another one.\")\n",
    "        elif guess in word:\n",
    "            for i in range(len(word)):\n",
    "                if word[i] == guess:\n",
    "                    guessed_word[i] = guess\n",
    "            print(\"Good guess!\")\n",
    "        else:\n",
    "            attempts -= 1\n",
    "            print(\"Wrong guess! Attempts left:\", attempts)\n",
    "            guessed_letters.append(guess)\n",
    "        print(\" \".join(guessed_word))\n",
    "    \n",
    "    if \"_\" not in guessed_word:\n",
    "        print(\"Congratulations! You guessed the word:\", word)\n",
    "    else:\n",
    "        print(\"Sorry, you've run out of attempts. The word was:\", word)\n",
    "\n",
    "hangman()"
   ]
  }
 ],
 "metadata": {
  "kernelspec": {
   "display_name": "Python 3 (ipykernel)",
   "language": "python",
   "name": "python3"
  },
  "language_info": {
   "codemirror_mode": {
    "name": "ipython",
    "version": 3
   },
   "file_extension": ".py",
   "mimetype": "text/x-python",
   "name": "python",
   "nbconvert_exporter": "python",
   "pygments_lexer": "ipython3",
   "version": "3.12.4"
  }
 },
 "nbformat": 4,
 "nbformat_minor": 5
}
