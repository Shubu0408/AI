{
 "cells": [
  {
   "cell_type": "code",
   "execution_count": 3,
   "id": "09d9d70f-0a88-4c06-8685-a1db9f13f8af",
   "metadata": {},
   "outputs": [
    {
     "name": "stdout",
     "output_type": "stream",
     "text": [
      "Shortest path: ['A', 'B', 'E', 'G']\n"
     ]
    }
   ],
   "source": [
    "import heapq\n",
    "graph = {\n",
    "    'A': {'B': 9, 'C': 4, 'D': 21},\n",
    "    'B': {'A': 9, 'C': 14, 'E': 11},\n",
    "    'C': {'A': 4, 'B': 14, 'D': 7, 'E': 17, 'F': 18},\n",
    "    'D': {'A': 21, 'C': 7, 'F': 14},\n",
    "    'E': {'B': 11, 'C': 17, 'G': 5},\n",
    "    'F': {'C': 18, 'D': 14, 'G': 9},\n",
    "    'G': {'E': 5, 'F': 9}\n",
    "}\n",
    "\n",
    "heuristic = {\n",
    "    'A': 21,\n",
    "    'B': 14,\n",
    "    'C': 18,\n",
    "    'D': 18,\n",
    "    'E': 5,\n",
    "    'F': 8,\n",
    "    'G': 0\n",
    "}\n",
    "\n",
    "def a_star(graph, start, goal, heuristic):\n",
    "    open_set = [(0, start)]\n",
    "    g_score = {start: 0}\n",
    "    f_score = {start: heuristic[start]}\n",
    "    came_from = {}\n",
    "\n",
    "    while open_set:\n",
    "        _, current = heapq.heappop(open_set)\n",
    "\n",
    "        if current == goal:\n",
    "            path = []\n",
    "            while current in came_from:\n",
    "                path.append(current)\n",
    "                current = came_from[current]\n",
    "            path.append(start)\n",
    "            return path[::-1]\n",
    "\n",
    "        for neighbor, weight in graph[current].items():\n",
    "            tentative_g_score = g_score.get(current, float('inf')) + weight\n",
    "\n",
    "            if tentative_g_score < g_score.get(neighbor, float('inf')):\n",
    "                came_from[neighbor] = current\n",
    "                g_score[neighbor] = tentative_g_score\n",
    "                f_score[neighbor] = tentative_g_score + heuristic[neighbor]\n",
    "                heapq.heappush(open_set, (f_score[neighbor], neighbor))\n",
    "\n",
    "    return None\n",
    "\n",
    "start_node = 'A'\n",
    "goal_node = 'G'\n",
    "path = a_star(graph, start_node, goal_node, heuristic)\n",
    "print(\"Shortest path:\",path)"
   ]
  },
  {
   "cell_type": "code",
   "execution_count": 5,
   "id": "e27b925a-d7cc-49c9-ae97-9c85eb552508",
   "metadata": {},
   "outputs": [
    {
     "name": "stdout",
     "output_type": "stream",
     "text": [
      "Shortest path: ['A', 'E', 'D', 'F']\n"
     ]
    }
   ],
   "source": [
    "import heapq\n",
    "graph = {\n",
    "    'A': {'B': 2, 'E': 3},\n",
    "    'B': {'A': 2, 'C': 1, 'F': 9},\n",
    "    'C': {'B': 1},\n",
    "    'D': {'E': 6, 'F': 1},\n",
    "    'E': {'A': 3, 'D': 6},\n",
    "    'F': {'B': 9, 'D': 1}\n",
    "}\n",
    "\n",
    "heuristic = {\n",
    "    'A': 11,\n",
    "    'B': 6,\n",
    "    'C': 99,\n",
    "    'D': 1,\n",
    "    'E': 7,\n",
    "    'F': 0\n",
    "}\n",
    "\n",
    "def a_star(graph, start, goal, heuristic):\n",
    "    open_set = [(0, start)]\n",
    "    g_score = {start: 0}\n",
    "    f_score = {start: heuristic[start]}\n",
    "    came_from = {}\n",
    "\n",
    "    while open_set:\n",
    "        _, current = heapq.heappop(open_set)\n",
    "\n",
    "        if current == goal:\n",
    "            path = []\n",
    "            while current in came_from:\n",
    "                path.append(current)\n",
    "                current = came_from[current]\n",
    "            path.append(start)\n",
    "            return path[::-1]\n",
    "\n",
    "        for neighbor, weight in graph[current].items():\n",
    "            tentative_g_score = g_score.get(current, float('inf')) + weight\n",
    "\n",
    "            if tentative_g_score < g_score.get(neighbor, float('inf')):\n",
    "                came_from[neighbor] = current\n",
    "                g_score[neighbor] = tentative_g_score\n",
    "                f_score[neighbor] = tentative_g_score + heuristic[neighbor]\n",
    "                heapq.heappush(open_set, (f_score[neighbor], neighbor))\n",
    "\n",
    "    return None\n",
    "\n",
    "start_node = 'A'\n",
    "goal_node = 'F'\n",
    "path = a_star(graph, start_node, goal_node, heuristic)\n",
    "print(\"Shortest path:\",path)"
   ]
  },
  {
   "cell_type": "code",
   "execution_count": null,
   "id": "67b746bd-db2f-4d5c-81d8-e19c0d48cf9f",
   "metadata": {},
   "outputs": [],
   "source": []
  }
 ],
 "metadata": {
  "kernelspec": {
   "display_name": "Python 3 (ipykernel)",
   "language": "python",
   "name": "python3"
  },
  "language_info": {
   "codemirror_mode": {
    "name": "ipython",
    "version": 3
   },
   "file_extension": ".py",
   "mimetype": "text/x-python",
   "name": "python",
   "nbconvert_exporter": "python",
   "pygments_lexer": "ipython3",
   "version": "3.12.4"
  }
 },
 "nbformat": 4,
 "nbformat_minor": 5
}
