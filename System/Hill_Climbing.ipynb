{
 "cells": [
  {
   "cell_type": "code",
   "execution_count": 3,
   "id": "d953976e-ff93-4d3c-90da-45ddc06149ba",
   "metadata": {},
   "outputs": [
    {
     "name": "stdout",
     "output_type": "stream",
     "text": [
      "Maximum found at x = 2.0000000000000004\n",
      "Maximum value f(x) = 4.0\n"
     ]
    }
   ],
   "source": [
    "def f(x):\n",
    "    return -x**2 + 4 * x\n",
    "\n",
    "def hill_climb(start_x):\n",
    "    x = start_x\n",
    "    step = 0.1\n",
    "    for _ in range(100):\n",
    "        current_value = f(x)\n",
    "        left_value = f(x - step)\n",
    "        right_value = f(x + step)\n",
    "        \n",
    "        if left_value > current_value:\n",
    "            x -= step\n",
    "        elif right_value > current_value:\n",
    "            x += step\n",
    "        else:\n",
    "            break\n",
    "    \n",
    "    return x, f(x)\n",
    "\n",
    "start = 0\n",
    "best_x, best_value = hill_climb(start)\n",
    "\n",
    "print(\"Maximum found at x =\", best_x)\n",
    "print(\"Maximum value f(x) =\",best_value)"
   ]
  },
  {
   "cell_type": "code",
   "execution_count": null,
   "id": "338fbae8-1af5-4cf0-af62-286f224ea080",
   "metadata": {},
   "outputs": [],
   "source": []
  },
  {
   "cell_type": "code",
   "execution_count": null,
   "id": "5945d822-9cdf-4c94-ae9a-594b4fca0198",
   "metadata": {},
   "outputs": [],
   "source": []
  }
 ],
 "metadata": {
  "kernelspec": {
   "display_name": "Python 3 (ipykernel)",
   "language": "python",
   "name": "python3"
  },
  "language_info": {
   "codemirror_mode": {
    "name": "ipython",
    "version": 3
   },
   "file_extension": ".py",
   "mimetype": "text/x-python",
   "name": "python",
   "nbconvert_exporter": "python",
   "pygments_lexer": "ipython3",
   "version": "3.12.4"
  }
 },
 "nbformat": 4,
 "nbformat_minor": 5
}
