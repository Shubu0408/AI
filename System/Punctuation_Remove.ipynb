{
 "cells": [
  {
   "cell_type": "code",
   "execution_count": 7,
   "id": "7f7b0a07-03cc-4492-8d8d-c499e0dacf31",
   "metadata": {},
   "outputs": [
    {
     "name": "stdout",
     "output_type": "stream",
     "text": [
      "Original String: Hello, World! How's everything going?\n",
      "String without Punctuation: Hello World Hows everything going\n"
     ]
    }
   ],
   "source": [
    "import string\n",
    "\n",
    "def remove_punctuation(input_string):\n",
    "    return input_string.translate(str.maketrans('', '', string.punctuation))\n",
    "\n",
    "input_string = \"Hello, World! How's everything going?\"\n",
    "output_string = remove_punctuation(input_string)\n",
    "\n",
    "print(\"Original String:\",input_string)\n",
    "print(\"String without Punctuation:\",output_string)"
   ]
  },
  {
   "cell_type": "code",
   "execution_count": null,
   "id": "93eadc5c-c373-4d34-bd9e-14e86eef1027",
   "metadata": {},
   "outputs": [],
   "source": []
  },
  {
   "cell_type": "code",
   "execution_count": null,
   "id": "10338ba4-bce3-4180-8f49-0b06c5ed5664",
   "metadata": {},
   "outputs": [],
   "source": []
  }
 ],
 "metadata": {
  "kernelspec": {
   "display_name": "Python 3 (ipykernel)",
   "language": "python",
   "name": "python3"
  },
  "language_info": {
   "codemirror_mode": {
    "name": "ipython",
    "version": 3
   },
   "file_extension": ".py",
   "mimetype": "text/x-python",
   "name": "python",
   "nbconvert_exporter": "python",
   "pygments_lexer": "ipython3",
   "version": "3.12.4"
  }
 },
 "nbformat": 4,
 "nbformat_minor": 5
}
