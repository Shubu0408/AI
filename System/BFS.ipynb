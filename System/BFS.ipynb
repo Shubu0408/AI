{
 "cells": [
  {
   "cell_type": "code",
   "execution_count": 3,
   "id": "9f9a8fce-8268-453a-b19f-e7b608bfcb97",
   "metadata": {},
   "outputs": [
    {
     "name": "stdout",
     "output_type": "stream",
     "text": [
      "A\n",
      "B\n",
      "C\n",
      "D\n",
      "E\n"
     ]
    }
   ],
   "source": [
    "from collections import deque\n",
    "\n",
    "graph = {'A': ['B', 'C', 'D'], 'B': ['E'], 'C': [], 'D': [], 'E': []}\n",
    "visited = set()\n",
    "def bfs(graph, root):\n",
    "    queue = deque([root])    # initially,the queue contains only the root node.\n",
    "    visited.add(root)        #Marks the starting node as visited by adding it to the visited set\n",
    "    \n",
    "    while queue:\n",
    "        node = queue.popleft()   #Removes the first element from the queue and stores it in node\n",
    "        print(node)\n",
    "        \n",
    "        for neighbour in graph[node]:      #Loops through all neighbors of the current node (node).\n",
    "            if neighbour not in visited:\n",
    "                visited.add(neighbour)\n",
    "                queue.append(neighbour)               #: Adds the neighbor to the end of the queue\n",
    "bfs(graph, 'A')"
   ]
  },
  {
   "cell_type": "code",
   "execution_count": null,
   "id": "99cc9d47-625a-49a0-85e1-d4425e4b5de4",
   "metadata": {},
   "outputs": [],
   "source": []
  }
 ],
 "metadata": {
  "kernelspec": {
   "display_name": "Python 3 (ipykernel)",
   "language": "python",
   "name": "python3"
  },
  "language_info": {
   "codemirror_mode": {
    "name": "ipython",
    "version": 3
   },
   "file_extension": ".py",
   "mimetype": "text/x-python",
   "name": "python",
   "nbconvert_exporter": "python",
   "pygments_lexer": "ipython3",
   "version": "3.12.4"
  }
 },
 "nbformat": 4,
 "nbformat_minor": 5
}
