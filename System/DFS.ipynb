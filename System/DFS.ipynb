{
 "cells": [
  {
   "cell_type": "code",
   "execution_count": 23,
   "id": "aed690d1-ba64-412a-a95f-7452feec581d",
   "metadata": {},
   "outputs": [
    {
     "name": "stdout",
     "output_type": "stream",
     "text": [
      "A\n",
      "B\n",
      "E\n",
      "C\n",
      "D\n"
     ]
    }
   ],
   "source": [
    "graph={'A':['B','C','D'],'B':['E'],'C':[],'D':[],'E':[]}\n",
    "visited=set()\n",
    "def dfs(visited,graph,root):\n",
    "    if root not in visited:\n",
    "        print(root)\n",
    "        visited.add(root)\n",
    "        for neighbour in graph[root]:\n",
    "            dfs(visited,graph,neighbour)\n",
    "dfs(visited,graph,'A')    "
   ]
  },
  {
   "cell_type": "code",
   "execution_count": 27,
   "id": "ae935a80-ec98-4a1c-bda0-9f3e484384f0",
   "metadata": {},
   "outputs": [
    {
     "name": "stdout",
     "output_type": "stream",
     "text": [
      "1\n",
      "2\n",
      "4\n",
      "8\n",
      "5\n",
      "3\n",
      "6\n",
      "7\n"
     ]
    }
   ],
   "source": [
    "graph={1:[2,3],2:[4,5],3:[6,7],4:[8],5:[],6:[],7:[],8:[]}\n",
    "visited=set()\n",
    "def dfs(visited,graph,root):\n",
    "    if root not in visited:\n",
    "        print(root)\n",
    "        visited.add(root)\n",
    "        for neighbour in graph[root]:\n",
    "            dfs(visited,graph,neighbour)\n",
    "dfs(visited,graph,1)   \n"
   ]
  },
  {
   "cell_type": "code",
   "execution_count": 37,
   "id": "945a16f0-33d9-4219-afd4-b91b77370000",
   "metadata": {},
   "outputs": [
    {
     "name": "stdout",
     "output_type": "stream",
     "text": [
      "1\n",
      "2\n",
      "4\n",
      "5\n",
      "7\n",
      "6\n",
      "3\n"
     ]
    }
   ],
   "source": [
    "graph={1:[2,3],2:[4],3:[2],4:[5,6],5:[7],6:[],7:[6]}\n",
    "visited=set()\n",
    "def dfs(visited,graph,root):\n",
    "    if root not in visited:\n",
    "        print(root)\n",
    "        visited.add(root)\n",
    "        for neighbour in graph[root]:\n",
    "            dfs(visited,graph,neighbour)\n",
    "dfs(visited,graph,1)   "
   ]
  },
  {
   "cell_type": "code",
   "execution_count": 48,
   "id": "b03ff97b-483c-4b85-a7f5-b2c38fb7c67d",
   "metadata": {},
   "outputs": [
    {
     "name": "stdout",
     "output_type": "stream",
     "text": [
      "2\n",
      "1\n",
      "3\n",
      "4\n",
      "7\n",
      "6\n",
      "5\n"
     ]
    }
   ],
   "source": [
    "graph={1:[2,3,4],2:[1,4,5],3:[1,4],4:[3,1,2,7],5:[2,6,7],6:[5,7],7:[6,5]}\n",
    "visited=set()\n",
    "def dfs(visited,graph,root):\n",
    "    if root not in visited:\n",
    "        print(root)\n",
    "        visited.add(root)\n",
    "        for neighbour in graph[root]:\n",
    "            dfs(visited,graph,neighbour)\n",
    "dfs(visited,graph,2)  "
   ]
  },
  {
   "cell_type": "code",
   "execution_count": null,
   "id": "4e917b88-53fa-4080-bdab-74f05bbbbed1",
   "metadata": {},
   "outputs": [],
   "source": []
  },
  {
   "cell_type": "code",
   "execution_count": null,
   "id": "e02f7637-750a-46c0-a81d-38219fa8693c",
   "metadata": {},
   "outputs": [],
   "source": []
  }
 ],
 "metadata": {
  "kernelspec": {
   "display_name": "Python 3 (ipykernel)",
   "language": "python",
   "name": "python3"
  },
  "language_info": {
   "codemirror_mode": {
    "name": "ipython",
    "version": 3
   },
   "file_extension": ".py",
   "mimetype": "text/x-python",
   "name": "python",
   "nbconvert_exporter": "python",
   "pygments_lexer": "ipython3",
   "version": "3.12.4"
  }
 },
 "nbformat": 4,
 "nbformat_minor": 5
}
