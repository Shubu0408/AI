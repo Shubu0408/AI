{
 "cells": [
  {
   "cell_type": "code",
   "execution_count": 15,
   "id": "c2cf2e99-ac46-4835-88b8-62fd5fc1d013",
   "metadata": {},
   "outputs": [
    {
     "name": "stdin",
     "output_type": "stream",
     "text": [
      "Enter a sentence: zerox and happen yard\n"
     ]
    },
    {
     "name": "stdout",
     "output_type": "stream",
     "text": [
      "Sorted sentence: and happen yard zerox\n"
     ]
    }
   ],
   "source": [
    "#Write a python program to sort the sentence in alphabetical order?\n",
    "def sort_sentence(sentence):\n",
    "    words = sentence.split()\n",
    "    words.sort()\n",
    "    return ' '.join(words)\n",
    "\n",
    "sentence = input(\"Enter a sentence:\")\n",
    "sorted_sentence = sort_sentence(sentence)\n",
    "print(\"Sorted sentence:\", sorted_sentence)"
   ]
  },
  {
   "cell_type": "code",
   "execution_count": null,
   "id": "adc75c9f-33d2-42dc-85bb-fe1834e20823",
   "metadata": {},
   "outputs": [],
   "source": []
  }
 ],
 "metadata": {
  "kernelspec": {
   "display_name": "Python 3 (ipykernel)",
   "language": "python",
   "name": "python3"
  },
  "language_info": {
   "codemirror_mode": {
    "name": "ipython",
    "version": 3
   },
   "file_extension": ".py",
   "mimetype": "text/x-python",
   "name": "python",
   "nbconvert_exporter": "python",
   "pygments_lexer": "ipython3",
   "version": "3.12.4"
  }
 },
 "nbformat": 4,
 "nbformat_minor": 5
}
